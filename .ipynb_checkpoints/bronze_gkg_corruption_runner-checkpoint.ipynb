{
 "cells": [
  {
   "cell_type": "code",
   "execution_count": null,
   "id": "3ca6ef51",
   "metadata": {},
   "outputs": [],
   "source": [
    "# Runner: bronze_gkg_corruption_runner.ipynb\n",
    "import sys\n",
    "sys.path.append('./scripts')\n",
    "\n",
    "from transform_bronze_gkg_corruption import filter_gkg_for_corrupcao\n",
    "\n",
    "# Executar a transformação na Bronze\n",
    "filter_gkg_for_corrupcao()"
   ]
  },
  {
   "cell_type": "code",
   "execution_count": null,
   "id": "47913146",
   "metadata": {},
   "outputs": [],
   "source": []
  }
 ],
 "metadata": {
  "language_info": {
   "name": "python"
  }
 },
 "nbformat": 4,
 "nbformat_minor": 5
}
