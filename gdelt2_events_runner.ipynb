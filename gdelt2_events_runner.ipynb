{
 "cells": [
  {
   "cell_type": "code",
   "execution_count": null,
   "id": "dd682952-4d3c-4299-9e02-6700276241a4",
   "metadata": {},
   "outputs": [],
   "source": [
    "import sys\n",
    "sys.path.append('./scripts')\n",
    "from download_gdelt2_events import download_gdelt2_events"
   ]
  },
  {
   "cell_type": "code",
   "execution_count": null,
   "id": "ebfebbfa",
   "metadata": {},
   "outputs": [],
   "source": [
    "# Define intervalo de datas para download\n",
    "start_date = '2023-09-01'\n",
    "end_date = '2023-09-01'"
   ]
  },
  {
   "cell_type": "code",
   "execution_count": null,
   "id": "f941e2d4-ef0d-4d72-bf5d-854c0d52e279",
   "metadata": {},
   "outputs": [],
   "source": [
    "download_gdelt2_events(start_date, end_date)"
   ]
  }
 ],
 "metadata": {
  "kernelspec": {
   "display_name": "Python 3",
   "language": "python",
   "name": "python3"
  },
  "language_info": {
   "codemirror_mode": {
    "name": "ipython",
    "version": 3
   },
   "file_extension": ".py",
   "mimetype": "text/x-python",
   "name": "python",
   "nbconvert_exporter": "python",
   "pygments_lexer": "ipython3",
   "version": "3.9.13"
  }
 },
 "nbformat": 4,
 "nbformat_minor": 5
}
