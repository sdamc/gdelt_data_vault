{
 "cells": [
  {
   "cell_type": "code",
   "execution_count": 7,
   "id": "3ca6ef51",
   "metadata": {},
   "outputs": [
    {
     "ename": "ImportError",
     "evalue": "cannot import name 'filter_gkg_for_corruption' from 'transform_bronze_gkg_corruption' (c:\\Users\\gonca\\jupyter\\gdelt_data_vault\\./scripts\\transform_bronze_gkg_corruption.py)",
     "output_type": "error",
     "traceback": [
      "\u001b[1;31m---------------------------------------------------------------------------\u001b[0m",
      "\u001b[1;31mImportError\u001b[0m                               Traceback (most recent call last)",
      "Cell \u001b[1;32mIn[7], line 5\u001b[0m\n\u001b[0;32m      2\u001b[0m \u001b[38;5;28;01mimport\u001b[39;00m\u001b[38;5;250m \u001b[39m\u001b[38;5;21;01msys\u001b[39;00m\n\u001b[0;32m      3\u001b[0m sys\u001b[38;5;241m.\u001b[39mpath\u001b[38;5;241m.\u001b[39mappend(\u001b[38;5;124m'\u001b[39m\u001b[38;5;124m./scripts\u001b[39m\u001b[38;5;124m'\u001b[39m)\n\u001b[1;32m----> 5\u001b[0m \u001b[38;5;28;01mfrom\u001b[39;00m\u001b[38;5;250m \u001b[39m\u001b[38;5;21;01mtransform_bronze_gkg_corruption\u001b[39;00m\u001b[38;5;250m \u001b[39m\u001b[38;5;28;01mimport\u001b[39;00m filter_gkg_for_corruption\n\u001b[0;32m      7\u001b[0m \u001b[38;5;66;03m# Executar a transformação na Bronze\u001b[39;00m\n\u001b[0;32m      8\u001b[0m filter_gkg_for_corruption()\n",
      "\u001b[1;31mImportError\u001b[0m: cannot import name 'filter_gkg_for_corruption' from 'transform_bronze_gkg_corruption' (c:\\Users\\gonca\\jupyter\\gdelt_data_vault\\./scripts\\transform_bronze_gkg_corruption.py)"
     ]
    }
   ],
   "source": [
    "# Runner: bronze_gkg_corruption_runner.ipynb\n",
    "import sys\n",
    "sys.path.append('./scripts')\n",
    "\n",
    "from transform_bronze_gkg_corruption import filter_gkg_for_corruption\n",
    "\n",
    "# Executar a transformação na Bronze\n",
    "filter_gkg_for_corruption()"
   ]
  },
  {
   "cell_type": "code",
   "execution_count": null,
   "id": "47913146",
   "metadata": {},
   "outputs": [],
   "source": []
  }
 ],
 "metadata": {
  "kernelspec": {
   "display_name": "Python 3",
   "language": "python",
   "name": "python3"
  },
  "language_info": {
   "codemirror_mode": {
    "name": "ipython",
    "version": 3
   },
   "file_extension": ".py",
   "mimetype": "text/x-python",
   "name": "python",
   "nbconvert_exporter": "python",
   "pygments_lexer": "ipython3",
   "version": "3.9.13"
  }
 },
 "nbformat": 4,
 "nbformat_minor": 5
}
