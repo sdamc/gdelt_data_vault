{
 "cells": [
  {
   "cell_type": "code",
   "execution_count": 5,
   "id": "efe8e9e2",
   "metadata": {},
   "outputs": [],
   "source": [
    "import sys\n",
    "sys.path.append('./scripts')  # caminho absoluto dentro do container\n",
    "\n",
    "from download_gkg_files import download_gdelt2_gkg\n"
   ]
  },
  {
   "cell_type": "code",
   "execution_count": 8,
   "id": "00152e32",
   "metadata": {},
   "outputs": [],
   "source": [
    "# Definir intervalo desejado\n",
    "data_inicio = '2016-01-01'\n",
    "data_fim = '2016-12-31'"
   ]
  },
  {
   "cell_type": "code",
   "execution_count": null,
   "id": "123707b8",
   "metadata": {},
   "outputs": [
    {
     "name": "stdout",
     "output_type": "stream",
     "text": [
      "⬇️ Baixando: 20160101000000\n",
      "✅ Sucesso: 20160101000000\n",
      "⬇️ Baixando: 20160101001500\n",
      "✅ Sucesso: 20160101001500\n",
      "⬇️ Baixando: 20160101003000\n",
      "✅ Sucesso: 20160101003000\n",
      "⬇️ Baixando: 20160101004500\n",
      "✅ Sucesso: 20160101004500\n",
      "⬇️ Baixando: 20160101010000\n",
      "✅ Sucesso: 20160101010000\n",
      "⬇️ Baixando: 20160101011500\n",
      "✅ Sucesso: 20160101011500\n",
      "⬇️ Baixando: 20160101013000\n",
      "✅ Sucesso: 20160101013000\n",
      "⬇️ Baixando: 20160101014500\n",
      "✅ Sucesso: 20160101014500\n",
      "⬇️ Baixando: 20160101020000\n",
      "✅ Sucesso: 20160101020000\n",
      "⬇️ Baixando: 20160101021500\n",
      "✅ Sucesso: 20160101021500\n",
      "⬇️ Baixando: 20160101023000\n",
      "✅ Sucesso: 20160101023000\n",
      "⬇️ Baixando: 20160101024500\n",
      "✅ Sucesso: 20160101024500\n"
     ]
    }
   ],
   "source": [
    "download_gdelt2_gkg(data_inicio, data_fim)"
   ]
  },
  {
   "cell_type": "code",
   "execution_count": null,
   "id": "e4400684-9f32-445c-9789-4aab5d170255",
   "metadata": {},
   "outputs": [],
   "source": []
  }
 ],
 "metadata": {
  "kernelspec": {
   "display_name": "Python 3 (ipykernel)",
   "language": "python",
   "name": "python3"
  },
  "language_info": {
   "codemirror_mode": {
    "name": "ipython",
    "version": 3
   },
   "file_extension": ".py",
   "mimetype": "text/x-python",
   "name": "python",
   "nbconvert_exporter": "python",
   "pygments_lexer": "ipython3",
   "version": "3.9.2"
  }
 },
 "nbformat": 4,
 "nbformat_minor": 5
}
