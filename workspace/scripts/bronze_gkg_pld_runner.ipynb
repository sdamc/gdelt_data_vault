{
 "cells": [
  {
   "cell_type": "code",
   "execution_count": null,
   "id": "3ca6ef51",
   "metadata": {},
   "outputs": [],
   "source": [
    "# Runner: bronze_gkg_pld_runner.ipynb\n",
    "import sys\n",
    "sys.path.append('./scripts')\n",
    "\n",
    "from transform_bronze_gkg_aml import filter_gkg_for_pld\n",
    "\n",
    "# Executar a transformação na Bronze\n",
    "filter_gkg_for_pld()"
   ]
  }
 ],
 "metadata": {
  "kernelspec": {
   "display_name": "Python 3 (ipykernel)",
   "language": "python",
   "name": "python3"
  },
  "language_info": {
   "codemirror_mode": {
    "name": "ipython",
    "version": 3
   },
   "file_extension": ".py",
   "mimetype": "text/x-python",
   "name": "python",
   "nbconvert_exporter": "python",
   "pygments_lexer": "ipython3",
   "version": "3.9.2"
  }
 },
 "nbformat": 4,
 "nbformat_minor": 5
}
