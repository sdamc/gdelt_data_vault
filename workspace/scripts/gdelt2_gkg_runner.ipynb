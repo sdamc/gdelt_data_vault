{
 "cells": [
  {
   "cell_type": "code",
   "execution_count": 4,
   "id": "efe8e9e2",
   "metadata": {},
   "outputs": [
    {
     "ename": "ModuleNotFoundError",
     "evalue": "No module named 'download_gkg_files'",
     "output_type": "error",
     "traceback": [
      "\u001b[0;31m---------------------------------------------------------------------------\u001b[0m",
      "\u001b[0;31mModuleNotFoundError\u001b[0m                       Traceback (most recent call last)",
      "Cell \u001b[0;32mIn[4], line 4\u001b[0m\n\u001b[1;32m      1\u001b[0m \u001b[38;5;28;01mimport\u001b[39;00m\u001b[38;5;250m \u001b[39m\u001b[38;5;21;01msys\u001b[39;00m\n\u001b[1;32m      2\u001b[0m sys\u001b[38;5;241m.\u001b[39mpath\u001b[38;5;241m.\u001b[39mappend(\u001b[38;5;124m'\u001b[39m\u001b[38;5;124m/scripts\u001b[39m\u001b[38;5;124m'\u001b[39m)  \u001b[38;5;66;03m# caminho absoluto dentro do container\u001b[39;00m\n\u001b[0;32m----> 4\u001b[0m \u001b[38;5;28;01mfrom\u001b[39;00m\u001b[38;5;250m \u001b[39m\u001b[38;5;21;01mdownload_gkg_files\u001b[39;00m\u001b[38;5;250m \u001b[39m\u001b[38;5;28;01mimport\u001b[39;00m download_gdelt2_gkg\n",
      "\u001b[0;31mModuleNotFoundError\u001b[0m: No module named 'download_gkg_files'"
     ]
    }
   ],
   "source": [
    "import sys\n",
    "sys.path.append('/scripts')  # caminho absoluto dentro do container\n",
    "\n",
    "from download_gkg_files import download_gdelt2_gkg\n"
   ]
  },
  {
   "cell_type": "code",
   "execution_count": null,
   "id": "00152e32",
   "metadata": {},
   "outputs": [],
   "source": [
    "# Definir intervalo desejado\n",
    "data_inicio = '2015-01-01'\n",
    "data_fim = '2015-12-31'"
   ]
  },
  {
   "cell_type": "code",
   "execution_count": null,
   "id": "123707b8",
   "metadata": {},
   "outputs": [],
   "source": [
    "download_gdelt2_gkg(data_inicio, data_fim)"
   ]
  }
 ],
 "metadata": {
  "kernelspec": {
   "display_name": "Python 3 (ipykernel)",
   "language": "python",
   "name": "python3"
  },
  "language_info": {
   "codemirror_mode": {
    "name": "ipython",
    "version": 3
   },
   "file_extension": ".py",
   "mimetype": "text/x-python",
   "name": "python",
   "nbconvert_exporter": "python",
   "pygments_lexer": "ipython3",
   "version": "3.9.2"
  }
 },
 "nbformat": 4,
 "nbformat_minor": 5
}
