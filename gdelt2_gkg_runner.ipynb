{
 "cells": [
  {
   "cell_type": "code",
   "execution_count": null,
   "id": "efe8e9e2",
   "metadata": {},
   "outputs": [],
   "source": [
    "import sys\n",
    "sys.path.append('./scripts')\n",
    "from download_gdelt2_gkg import download_gdelt2_gkg"
   ]
  },
  {
   "cell_type": "code",
   "execution_count": null,
   "id": "00152e32",
   "metadata": {},
   "outputs": [],
   "source": [
    "# Definir intervalo desejado\n",
    "data_inicio = '2023-09-01'\n",
    "data_fim = '2023-09-01'"
   ]
  },
  {
   "cell_type": "code",
   "execution_count": null,
   "id": "123707b8",
   "metadata": {},
   "outputs": [],
   "source": [
    "download_gdelt2_gkg(data_inicio, data_fim)"
   ]
  }
 ],
 "metadata": {
  "kernelspec": {
   "display_name": "Python 3",
   "language": "python",
   "name": "python3"
  },
  "language_info": {
   "codemirror_mode": {
    "name": "ipython",
    "version": 3
   },
   "file_extension": ".py",
   "mimetype": "text/x-python",
   "name": "python",
   "nbconvert_exporter": "python",
   "pygments_lexer": "ipython3",
   "version": "3.9.13"
  }
 },
 "nbformat": 4,
 "nbformat_minor": 5
}
