{
 "cells": [
  {
   "cell_type": "code",
   "execution_count": 1,
   "id": "dd682952-4d3c-4299-9e02-6700276241a4",
   "metadata": {},
   "outputs": [],
   "source": [
    "from datetime import datetime\n",
    "from scripts.download_gdelt import download_gdelt_events"
   ]
  },
  {
   "cell_type": "code",
   "execution_count": null,
   "id": "a5328500-cc43-4a62-bee2-460c118c11fe",
   "metadata": {},
   "outputs": [],
   "source": [
    "start = datetime(2017, 6, 15)\n",
    "end = datetime(2017, 6, 31)"
   ]
  },
  {
   "cell_type": "code",
   "execution_count": null,
   "id": "f941e2d4-ef0d-4d72-bf5d-854c0d52e279",
   "metadata": {},
   "outputs": [],
   "source": [
    "download_gdelt_events(start, end)"
   ]
  },
  {
   "cell_type": "code",
   "execution_count": null,
   "id": "3998cb20-70e0-4cd1-976a-0671c5670ef3",
   "metadata": {},
   "outputs": [],
   "source": []
  }
 ],
 "metadata": {
  "kernelspec": {
   "display_name": "Python 3 (ipykernel)",
   "language": "python",
   "name": "python3"
  },
  "language_info": {
   "codemirror_mode": {
    "name": "ipython",
    "version": 3
   },
   "file_extension": ".py",
   "mimetype": "text/x-python",
   "name": "python",
   "nbconvert_exporter": "python",
   "pygments_lexer": "ipython3",
   "version": "3.11.13"
  }
 },
 "nbformat": 4,
 "nbformat_minor": 5
}
